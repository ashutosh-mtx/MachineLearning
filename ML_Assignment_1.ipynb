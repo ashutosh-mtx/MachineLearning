{
  "nbformat": 4,
  "nbformat_minor": 0,
  "metadata": {
    "colab": {
      "name": "ML Assignment-1.ipynb",
      "provenance": [],
      "authorship_tag": "ABX9TyMhnW/98pbrC2BbayX+XNOF",
      "include_colab_link": true
    },
    "kernelspec": {
      "name": "python3",
      "display_name": "Python 3"
    },
    "language_info": {
      "name": "python"
    }
  },
  "cells": [
    {
      "cell_type": "markdown",
      "metadata": {
        "id": "view-in-github",
        "colab_type": "text"
      },
      "source": [
        "<a href=\"https://colab.research.google.com/github/ashutosh-mtx/MachineLearning/blob/main/ML_Assignment_1.ipynb\" target=\"_parent\"><img src=\"https://colab.research.google.com/assets/colab-badge.svg\" alt=\"Open In Colab\"/></a>"
      ]
    },
    {
      "cell_type": "code",
      "metadata": {
        "id": "9frsI5_9vTE3"
      },
      "source": [
        "import numpy as np\n",
        "import pandas as pd\n",
        "from sklearn.model_selection import train_test_split"
      ],
      "execution_count": null,
      "outputs": []
    },
    {
      "cell_type": "code",
      "metadata": {
        "colab": {
          "base_uri": "https://localhost:8080/",
          "height": 265
        },
        "id": "ijaZoDqWve41",
        "outputId": "b955cae4-0843-40f3-e531-638a081985ae"
      },
      "source": [
        "np.random.seed(0)\n",
        "n = 15\n",
        "x = np.linspace(0,10,n) + np.random.randn(n)/5\n",
        "y = np.sin(x)+x/6 + np.random.randn(n)/10\n",
        "\n",
        "\n",
        "X_train, X_test, y_train, y_test = train_test_split(x, y, random_state=0)\n",
        "\n",
        "# You can use this function to help you visualize the dataset by\n",
        "# plotting a scatterplot of the data points\n",
        "# in the training and test sets.\n",
        "def part1_scatter():\n",
        "    import matplotlib.pyplot as plt\n",
        "    %matplotlib inline\n",
        "    plt.figure()\n",
        "    plt.scatter(X_train, y_train, label='training data')\n",
        "    plt.scatter(X_test, y_test, label='test data')\n",
        "    plt.legend(loc=4);\n",
        "    \n",
        "    \n",
        "# NOTE: Uncomment the function below to visualize the data, but be sure \n",
        "# to **re-comment it before submitting this assignment to the autograder**.   \n",
        "part1_scatter()"
      ],
      "execution_count": null,
      "outputs": [
        {
          "output_type": "display_data",
          "data": {
            "image/png": "[encoded data removed]",
            "text/plain": [
              "<Figure size 432x288 with 1 Axes>"
            ]
          },
          "metadata": {
            "tags": [],
            "needs_background": "light"
          }
        }
      ]
    },
    {
      "cell_type": "code",
      "metadata": {
        "colab": {
          "base_uri": "https://localhost:8080/"
        },
        "id": "aapRurYnwHWa",
        "outputId": "89f63237-376f-4d21-95fa-2866b076e03c"
      },
      "source": [
        "print(X_train)"
      ],
      "execution_count": null,
      "outputs": [
        {
          "output_type": "stream",
          "text": [
            "[10.08877265  3.23065446  1.62431903  9.31004929  7.17166586  4.96972856\n",
            "  8.14799756  2.59103578  0.35281047  3.375973    8.72363612]\n"
          ],
          "name": "stdout"
        }
      ]
    }
  ]
}
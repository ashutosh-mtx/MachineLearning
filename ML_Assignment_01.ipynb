{
  "nbformat": 4,
  "nbformat_minor": 0,
  "metadata": {
    "colab": {
      "name": "ML Assignment-01.ipynb",
      "provenance": [],
      "collapsed_sections": [],
      "authorship_tag": "ABX9TyOVvM8FcRkbbJCm8Fz0/4Vw",
      "include_colab_link": true
    },
    "kernelspec": {
      "name": "python3",
      "display_name": "Python 3"
    },
    "language_info": {
      "name": "python"
    }
  },
  "cells": [
    {
      "cell_type": "markdown",
      "metadata": {
        "id": "view-in-github",
        "colab_type": "text"
      },
      "source": [
        "<a href=\"https://colab.research.google.com/github/ashutosh-mtx/MachineLearning/blob/main/ML_Assignment_01.ipynb\" target=\"_parent\"><img src=\"https://colab.research.google.com/assets/colab-badge.svg\" alt=\"Open In Colab\"/></a>"
      ]
    },
    {
      "cell_type": "markdown",
      "metadata": {
        "id": "Qo1KA9IqfUQg"
      },
      "source": [
        "# Introduction to Machine Learning Assignment 1\n",
        "#### From: Ashutosh, Date: 17-May-2021"
      ]
    },
    {
      "cell_type": "markdown",
      "metadata": {
        "id": "OqJ-s9SkfaMG"
      },
      "source": [
        "For this assignment, you will be using the Breast Cancer Wisconsin (Diagnostic) Database to create a classifier that can help diagnose patients. First, read through the description of the dataset (below)."
      ]
    },
    {
      "cell_type": "code",
      "metadata": {
        "id": "AardPI5VfKIk"
      },
      "source": [
        "import numpy as np\n",
        "import pandas as pd\n",
        "from sklearn.datasets import load_breast_cancer\n",
        "\n",
        "cancer = load_breast_cancer()\n",
        "\n",
        "\n",
        "#print(cancer.DESCR) # Print the data set description"
      ],
      "execution_count": null,
      "outputs": []
    },
    {
      "cell_type": "markdown",
      "metadata": {
        "id": "A9cas-ECffpK"
      },
      "source": [
        "The object returned by load_breast_cancer() is a scikit-learn Bunch object, which is similar to a dictionary.\n"
      ]
    },
    {
      "cell_type": "code",
      "metadata": {
        "id": "rUnj0QbFfihc"
      },
      "source": [
        "cancer.keys()"
      ],
      "execution_count": null,
      "outputs": []
    },
    {
      "cell_type": "markdown",
      "metadata": {
        "id": "rB_qqbHxfhr3"
      },
      "source": [
        "### Question 0 (Example)\n",
        "\n",
        "How many features does the breast cancer dataset have?\n",
        "\n",
        "This function should return an integer.\n"
      ]
    },
    {
      "cell_type": "code",
      "metadata": {
        "id": "n2WTx211foxT"
      },
      "source": [
        "# You should write your whole answer within the function provided. The autograder will call\n",
        "# this function and compare the return value against the correct solution value\n",
        "def answer_zero():\n",
        "    # This function returns the number of features of the breast cancer dataset, which is an integer. \n",
        "    # The assignment question description will tell you the general format the autograder is expecting\n",
        "    return len(cancer['feature_names'])\n",
        "\n",
        "# You can examine what your function returns by calling it in the cell. If you have questions\n",
        "# about the assignment formats, check out the discussion forums for any FAQs\n",
        "answer_zero() "
      ],
      "execution_count": null,
      "outputs": []
    },
    {
      "cell_type": "code",
      "metadata": {
        "id": "3P6u7atwftDx"
      },
      "source": [
        "cancer['data']"
      ],
      "execution_count": null,
      "outputs": []
    },
    {
      "cell_type": "markdown",
      "metadata": {
        "id": "cJYE7O4ifvQB"
      },
      "source": [
        "Question 1\n",
        "\n",
        "Scikit-learn works with lists, numpy arrays, scipy-sparse matrices, and pandas DataFrames, so converting the dataset to a DataFrame is not necessary for training this model. Using a DataFrame does however help make many things easier such as munging data, so let's practice creating a classifier with a pandas DataFrame.\n",
        "\n",
        "Convert the sklearn.dataset cancer to a DataFrame.\n",
        "\n",
        "*This function should return a (569, 31) DataFrame with *\n",
        "\n",
        "*columns = *\n",
        "\n",
        "['mean radius', 'mean texture', 'mean perimeter', 'mean area',\n",
        "'mean smoothness', 'mean compactness', 'mean concavity',\n",
        "'mean concave points', 'mean symmetry', 'mean fractal dimension',\n",
        "'radius error', 'texture error', 'perimeter error', 'area error',\n",
        "'smoothness error', 'compactness error', 'concavity error',\n",
        "'concave points error', 'symmetry error', 'fractal dimension error',\n",
        "'worst radius', 'worst texture', 'worst perimeter', 'worst area',\n",
        "'worst smoothness', 'worst compactness', 'worst concavity',\n",
        "'worst concave points', 'worst symmetry', 'worst fractal dimension',\n",
        "'target']\n",
        "\n",
        "*and index = *\n",
        "\n",
        "RangeIndex(start=0, stop=569, step=1)"
      ]
    },
    {
      "cell_type": "code",
      "metadata": {
        "id": "dwRTSA9ffvz9"
      },
      "source": [
        "def answer_one():\n",
        "    \n",
        "    columns = ['mean radius', 'mean texture', 'mean perimeter', 'mean area',\n",
        "'mean smoothness', 'mean compactness', 'mean concavity',\n",
        "'mean concave points', 'mean symmetry', 'mean fractal dimension',\n",
        "'radius error', 'texture error', 'perimeter error', 'area error',\n",
        "'smoothness error', 'compactness error', 'concavity error',\n",
        "'concave points error', 'symmetry error', 'fractal dimension error',\n",
        "'worst radius', 'worst texture', 'worst perimeter', 'worst area',\n",
        "'worst smoothness', 'worst compactness', 'worst concavity',\n",
        "'worst concave points', 'worst symmetry', 'worst fractal dimension',\n",
        "'target']\n",
        "    \n",
        "    '''\n",
        "    print(\"features:\", cancer.feature_names)\n",
        "    print(len(cancer.feature_names))\n",
        "    print(\"cols:\", columns)\n",
        "    print(len(columns))\n",
        "    '''\n",
        "    index = range(0,569)\n",
        "    df = pd.DataFrame(data=cancer['data'], index=index, columns = columns[:30])\n",
        "    df['target'] = cancer.target\n",
        "    return df\n",
        "\n",
        "\n",
        "answer_one()"
      ],
      "execution_count": null,
      "outputs": []
    },
    {
      "cell_type": "markdown",
      "metadata": {
        "id": "Xkgp9q0Sf0jd"
      },
      "source": [
        "### Question 2\n",
        "\n",
        "What is the class distribution? (i.e. how many instances of malignant (encoded 0) and how many benign (encoded 1)?)\n",
        "\n",
        "This function should return a Series named target of length 2 with integer values and index = ['malignant', 'benign']\n"
      ]
    },
    {
      "cell_type": "code",
      "metadata": {
        "id": "Wd-lqWItf05P"
      },
      "source": [
        "def answer_two():\n",
        "    cancerdf = answer_one()\n",
        "    \n",
        "    #print(cancerdf['target'])\n",
        "    # Your code here\n",
        "    ret = len(cancerdf)\n",
        "    target = cancerdf['target'].value_counts()\n",
        "\n",
        "    target.rename({1: 'malignant', 0: 'benign'}, inplace=True)\n",
        "    \n",
        "    return target# Return your answer\n",
        "\n",
        "\n",
        "answer_two()"
      ],
      "execution_count": null,
      "outputs": []
    },
    {
      "cell_type": "markdown",
      "metadata": {
        "id": "8SphfP3Zf37i"
      },
      "source": [
        "### Question 3\n",
        "\n",
        "Split the DataFrame into X (the data) and y (the labels).\n",
        "\n",
        "This function should return a tuple of length 2: (X, y), where\n",
        "\n",
        "    X, a pandas DataFrame, has shape (569, 30)\n",
        "    y, a pandas Series, has shape (569,).\n",
        "\n"
      ]
    },
    {
      "cell_type": "code",
      "metadata": {
        "id": "4JYmGhWsf5mQ"
      },
      "source": [
        "def answer_three():\n",
        "    cancerdf = answer_one()\n",
        "    \n",
        "    \n",
        "    #print(type(cancerdf.columns))\n",
        "    #cancerdf.columns.drop('target')\n",
        "    #print(type(cancerdf))\n",
        "    #print(cancerdf['target'])\n",
        "    #new_df = cancerdf.loc[:, ~cancerdf.columns.isin(['target'])]\n",
        "    #cancerdf.drop(columns='target', axis='columns', inplace=True)\n",
        "    # find the index no\n",
        "    #index_no = cancerdf.columns.get_loc('target')\n",
        "    #print(\"Index of target: \", index_no)\n",
        "    # Your code here\n",
        "    #X = cancerdf.values() python help says to use to_numpy instead of values\n",
        "    #X = cancerdf.to_numpy()\n",
        "    #X = cancerdf.iloc[:,0:-1]\n",
        "    #X = cancerdf[cancerdf.columns[:-1]]\n",
        "    y = cancerdf.target\n",
        "    cancerdf.drop(['target'], axis = 1, inplace=True)\n",
        "    X = cancerdf.to_numpy()\n",
        "    #print(len(y))\n",
        "    #print(X.shape)\n",
        "    #print(y.shape)\n",
        "    return X, y\n",
        "\n",
        "ret_data = answer_three()\n",
        "\n",
        "print(\"Shape of tuple items: \", [item.shape for item in ret_data])\n",
        "#ret_data"
      ],
      "execution_count": null,
      "outputs": []
    },
    {
      "cell_type": "markdown",
      "metadata": {
        "id": "NrLjZPUQf_iW"
      },
      "source": [
        "### Question 4\n",
        "\n",
        "Using train_test_split, split X and y into training and test sets (X_train, X_test, y_train, and y_test).\n",
        "\n",
        "Set the random number generator state to 0 using random_state=0 to make sure your results match the autograder!\n",
        "\n",
        "This function should return a tuple of length 4: (X_train, X_test, y_train, y_test), where\n",
        "\n",
        "    X_train has shape (426, 30)\n",
        "    X_test has shape (143, 30)\n",
        "    y_train has shape (426,)\n",
        "    y_test has shape (143,)\n",
        "\n"
      ]
    },
    {
      "cell_type": "code",
      "metadata": {
        "id": "T7PcMM9mgBQx"
      },
      "source": [
        "from sklearn.model_selection import train_test_split\n",
        "\n",
        "def answer_four():\n",
        "    X, y = answer_three()\n",
        "\n",
        "    # Your code here\n",
        "    X_train, X_test, y_train, y_test = train_test_split(X, y, random_state=0)\n",
        "    return X_train, X_test, y_train, y_test\n",
        "\n",
        "ret_data = answer_four()\n",
        "\n",
        "print(\"Shape of tuple items: \", [item.shape for item in ret_data])"
      ],
      "execution_count": null,
      "outputs": []
    },
    {
      "cell_type": "markdown",
      "metadata": {
        "id": "bd-wX8ikgDi_"
      },
      "source": [
        "### Question 5\n",
        "\n",
        "Using KNeighborsClassifier, fit a k-nearest neighbors (knn) classifier with X_train, y_train and using one nearest neighbor (n_neighbors = 1).\n",
        "\n",
        "*This function should return a * sklearn.neighbors.classification.KNeighborsClassifier.\n"
      ]
    },
    {
      "cell_type": "code",
      "metadata": {
        "id": "OAfvF8prgH-r"
      },
      "source": [
        "from sklearn.neighbors import KNeighborsClassifier\n",
        "\n",
        "def answer_five():\n",
        "    X_train, X_test, y_train, y_test = answer_four()\n",
        "    \n",
        "    # Your code here\n",
        "    knn = KNeighborsClassifier(n_neighbors=1)\n",
        "    knn.fit(X_train, y_train)\n",
        "    return knn\n",
        "    # Return your answer\n",
        "\n",
        "print(type(answer_five()))"
      ],
      "execution_count": null,
      "outputs": []
    },
    {
      "cell_type": "markdown",
      "metadata": {
        "id": "aTF4ZfxTgKeE"
      },
      "source": [
        "### Question 6\n",
        "\n",
        "Using your knn classifier, predict the class label using the mean value for each feature.\n",
        "\n",
        "Hint: You can use cancerdf.mean()[:-1].values.reshape(1, -1) which gets the mean value for each feature, ignores the target column, and reshapes the data from 1 dimension to 2 (necessary for the precict method of KNeighborsClassifier).\n",
        "\n",
        "This function should return a numpy array either array([ 0.]) or array([ 1.])\n"
      ]
    },
    {
      "cell_type": "code",
      "metadata": {
        "id": "CdymSzFWgNVa"
      },
      "source": [
        "def answer_six():\n",
        "    cancerdf = answer_one()\n",
        "    means = cancerdf.mean()[:-1].values.reshape(1, -1)\n",
        "    \n",
        "    # Your code here\n",
        "    knn = answer_five()\n",
        "    \n",
        "    return knn.predict(means)# Return your answer\n",
        "\n",
        "answer_six()"
      ],
      "execution_count": null,
      "outputs": []
    },
    {
      "cell_type": "markdown",
      "metadata": {
        "id": "rjSHoW8_gQhj"
      },
      "source": [
        "### Question 7\n",
        "\n",
        "Using your knn classifier, predict the class labels for the test set X_test.\n",
        "\n",
        "This function should return a numpy array with shape (143,) and values either 0.0 or 1.0.\n"
      ]
    },
    {
      "cell_type": "code",
      "metadata": {
        "id": "dG7u0O1VgTy9"
      },
      "source": [
        "def answer_seven():\n",
        "    X_train, X_test, y_train, y_test = answer_four()\n",
        "    knn = answer_five()\n",
        "    \n",
        "    # Your code here\n",
        "    return knn.predict(X_test)# Return your answer\n",
        "\n",
        "test_predict = answer_seven()\n",
        "print(test_predict.shape)\n",
        "test_predict"
      ],
      "execution_count": null,
      "outputs": []
    },
    {
      "cell_type": "markdown",
      "metadata": {
        "id": "2VkqilwKgVaB"
      },
      "source": [
        "### Question 8\n",
        "\n",
        "Find the score (mean accuracy) of your knn classifier using X_test and y_test.\n",
        "\n",
        "This function should return a float between 0 and 1\n"
      ]
    },
    {
      "cell_type": "code",
      "metadata": {
        "id": "pTx96T_5gajb"
      },
      "source": [
        "def answer_eight():\n",
        "    X_train, X_test, y_train, y_test = answer_four()\n",
        "    knn = answer_five()\n",
        "    \n",
        "    # Your code here\n",
        "    score = knn.score(X_test, y_test)\n",
        "    return score# Return your answer\n",
        "\n",
        "print(\"Mean Accuracy for X_test and y_test is \", answer_eight())"
      ],
      "execution_count": null,
      "outputs": []
    },
    {
      "cell_type": "markdown",
      "metadata": {
        "id": "PCHmedI9gbFb"
      },
      "source": [
        "### Optional plot\n",
        "\n",
        "Try using the plotting function below to visualize the differet predicition scores between training and test sets, as well as malignant and benign cells.\n"
      ]
    },
    {
      "cell_type": "code",
      "metadata": {
        "id": "JUYavVjJgd_5"
      },
      "source": [
        "def accuracy_plot():\n",
        "    import matplotlib.pyplot as plt\n",
        "\n",
        "    %matplotlib notebook\n",
        "\n",
        "    X_train, X_test, y_train, y_test = answer_four()\n",
        "\n",
        "    # Find the training and testing accuracies by target value (i.e. malignant, benign)\n",
        "    mal_train_X = X_train[y_train==0]\n",
        "    mal_train_y = y_train[y_train==0]\n",
        "    ben_train_X = X_train[y_train==1]\n",
        "    ben_train_y = y_train[y_train==1]\n",
        "\n",
        "    mal_test_X = X_test[y_test==0]\n",
        "    mal_test_y = y_test[y_test==0]\n",
        "    ben_test_X = X_test[y_test==1]\n",
        "    ben_test_y = y_test[y_test==1]\n",
        "\n",
        "    knn = answer_five()\n",
        "\n",
        "    scores = [knn.score(mal_train_X, mal_train_y), knn.score(ben_train_X, ben_train_y), \n",
        "              knn.score(mal_test_X, mal_test_y), knn.score(ben_test_X, ben_test_y)]\n",
        "\n",
        "\n",
        "    plt.figure()\n",
        "\n",
        "    # Plot the scores as a bar chart\n",
        "    bars = plt.bar(np.arange(4), scores, color=['#4c72b0','#4c72b0','#55a868','#55a868'])\n",
        "\n",
        "    # directly label the score onto the bars\n",
        "    for bar in bars:\n",
        "        height = bar.get_height()\n",
        "        plt.gca().text(bar.get_x() + bar.get_width()/2, height*.90, '{0:.{1}f}'.format(height, 2), \n",
        "                     ha='center', color='w', fontsize=11)\n",
        "\n",
        "    # remove all the ticks (both axes), and tick labels on the Y axis\n",
        "    plt.tick_params(top='off', bottom='off', left='off', right='off', labelleft='off', labelbottom='on')\n",
        "\n",
        "    # remove the frame of the chart\n",
        "    for spine in plt.gca().spines.values():\n",
        "        spine.set_visible(False)\n",
        "\n",
        "    plt.xticks([0,1,2,3], ['Malignant\\nTraining', 'Benign\\nTraining', 'Malignant\\nTest', 'Benign\\nTest'], alpha=0.8);\n",
        "    plt.title('Training and Test Accuracies for Malignant and Benign Cells', alpha=0.8)"
      ],
      "execution_count": null,
      "outputs": []
    },
    {
      "cell_type": "markdown",
      "metadata": {
        "id": "OQZkSDNGgh9f"
      },
      "source": [
        "Uncomment the plotting function to see the visualization.\n",
        "\n",
        "Comment out the plotting function when submitting your notebook for grading.\n"
      ]
    },
    {
      "cell_type": "code",
      "metadata": {
        "id": "71KQVVWngkRC"
      },
      "source": [
        "accuracy_plot()"
      ],
      "execution_count": null,
      "outputs": []
    }
  ]
}
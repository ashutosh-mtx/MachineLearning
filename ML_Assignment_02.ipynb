{
  "nbformat": 4,
  "nbformat_minor": 0,
  "metadata": {
    "colab": {
      "name": "ML Assignment-02.ipynb",
      "provenance": [],
      "collapsed_sections": [],
      "authorship_tag": "ABX9TyN07qj/BqSPIO+up4uBA140",
      "include_colab_link": true
    },
    "kernelspec": {
      "name": "python3",
      "display_name": "Python 3"
    },
    "language_info": {
      "name": "python"
    }
  },
  "cells": [
    {
      "cell_type": "markdown",
      "metadata": {
        "id": "view-in-github",
        "colab_type": "text"
      },
      "source": [
        "<a href=\"https://colab.research.google.com/github/ashutosh-mtx/MachineLearning/blob/main/ML_Assignment_02.ipynb\" target=\"_parent\"><img src=\"https://colab.research.google.com/assets/colab-badge.svg\" alt=\"Open In Colab\"/></a>"
      ]
    },
    {
      "cell_type": "markdown",
      "metadata": {
        "id": "XmqH5q4o4MVI"
      },
      "source": [
        "# Machine Learning - 2\n",
        "#### From: Ashutosh, Date: 17-May-2021\n",
        "In this assignment you'll explore the relationship between model complexity and generalization performance, by adjusting key parameters of various supervised learning models. Part 1 of this assignment will look at regression and Part 2 will look at classification.\n",
        "\n",
        "## Part 1 - Regression\n",
        "\n",
        "First, run the following block to set up the variables needed for later sections."
      ]
    },
    {
      "cell_type": "code",
      "metadata": {
        "colab": {
          "base_uri": "https://localhost:8080/",
          "height": 265
        },
        "id": "ijaZoDqWve41",
        "outputId": "6d5c043f-c482-4a2b-d895-bdb7baeb569c"
      },
      "source": [
        "import numpy as np\n",
        "import pandas as pd\n",
        "from sklearn.model_selection import train_test_split\n",
        "\n",
        "np.random.seed(0)\n",
        "n = 15\n",
        "x = np.linspace(0,10,n) + np.random.randn(n)/5\n",
        "y = np.sin(x)+x/6 + np.random.randn(n)/10\n",
        "\n",
        "\n",
        "X_train, X_test, y_train, y_test = train_test_split(x, y, random_state=0)\n",
        "\n",
        "# You can use this function to help you visualize the dataset by\n",
        "# plotting a scatterplot of the data points\n",
        "# in the training and test sets.\n",
        "def part1_scatter():\n",
        "    import matplotlib.pyplot as plt\n",
        "    %matplotlib inline\n",
        "    plt.figure()\n",
        "    plt.scatter(X_train, y_train, label='training data')\n",
        "    plt.scatter(X_test, y_test, label='test data')\n",
        "    plt.legend(loc=4);\n",
        "    \n",
        "    \n",
        "# NOTE: Uncomment the function below to visualize the data, but be sure \n",
        "# to **re-comment it before submitting this assignment to the autograder**.   \n",
        "part1_scatter()"
      ],
      "execution_count": null,
      "outputs": [
        {
          "output_type": "display_data",
          "data": {
            "image/png": "[encoded data removed]",
            "text/plain": [
              "<Figure size 432x288 with 1 Axes>"
            ]
          },
          "metadata": {
            "tags": [],
            "needs_background": "light"
          }
        }
      ]
    },
    {
      "cell_type": "markdown",
      "metadata": {
        "id": "5LxHAo4509zC"
      },
      "source": [
        "### Question 1\n",
        "\n",
        "Write a function that fits a polynomial LinearRegression model on the training data X_train for degrees 1, 3, 6, and 9. (Use PolynomialFeatures in sklearn.preprocessing to create the polynomial features and then fit a linear regression model) For each model, find 100 predicted values over the interval x = 0 to 10 (e.g. np.linspace(0,10,100)) and store this in a numpy array. The first row of this array should correspond to the output from the model trained on degree 1, the second row degree 3, the third row degree 6, and the fourth row degree 9."
      ]
    },
    {
      "cell_type": "markdown",
      "metadata": {
        "id": "QGNAhiuy1P1S"
      },
      "source": [
        "The figure above shows the fitted models plotted on top of the original data (using plot_one()).\n",
        "\n",
        "*This function should return a numpy array with shape `(4, 100)`*"
      ]
    },
    {
      "cell_type": "markdown",
      "metadata": {
        "id": "Ndtm9Q4138k9"
      },
      "source": [
        ""
      ]
    },
    {
      "cell_type": "code",
      "metadata": {
        "colab": {
          "base_uri": "https://localhost:8080/"
        },
        "id": "__QkXedb2VkV",
        "outputId": "2d34620e-1f64-4f7f-aa8c-ab18b399b6ce"
      },
      "source": [
        "def answer_one():\n",
        "    from sklearn.linear_model import LinearRegression\n",
        "    from sklearn.preprocessing import PolynomialFeatures\n",
        "\n",
        "    # Your code here\n",
        "    X_train_new = X_train.reshape(-1,1)\n",
        "    runtest = np.linspace(0,10,100)\n",
        "\n",
        "    x_runtest = runtest.reshape(100,1)\n",
        "\n",
        "    ret_np = np.zeros((4,100))\n",
        "    degress = [1,3,6,9]\n",
        "    for i, d in enumerate(degress):\n",
        "        poly = PolynomialFeatures(degree=d)\n",
        "        \n",
        "        X_poly = poly.fit_transform(X_train_new)\n",
        "        linreg = LinearRegression().fit(X_poly, y_train)\n",
        "        \n",
        "        #print(\"Degree:\", d)\n",
        "        #print(\"X_train Shape:\", X_poly.shape)\n",
        "\n",
        "        pred = linreg.predict(poly.fit_transform(x_runtest))\n",
        "        #np.append(ret_np, pred)\n",
        "        ret_np[i,:] = pred\n",
        "        \n",
        "    return ret_np# Return your answer\n",
        "\n",
        "ret_data = answer_one()\n",
        "print(\"Shape of ret data: \", ret_data.shape)\n",
        "#print(\"Values of ret data: \", ret_data)"
      ],
      "execution_count": null,
      "outputs": [
        {
          "output_type": "stream",
          "text": [
            "Shape of ret data:  (4, 100)\n"
          ],
          "name": "stdout"
        }
      ]
    },
    {
      "cell_type": "code",
      "metadata": {
        "colab": {
          "base_uri": "https://localhost:8080/",
          "height": 324
        },
        "id": "_924XZoL2lUA",
        "outputId": "1aed6f0d-bb07-48ab-e405-c2a5c263f175"
      },
      "source": [
        "# feel free to use the function plot_one() to replicate the figure \n",
        "# from the prompt once you have completed question one\n",
        "def plot_one(degree_predictions):\n",
        "    import matplotlib.pyplot as plt\n",
        "    %matplotlib inline\n",
        "    plt.figure(figsize=(10,5))\n",
        "    plt.plot(X_train, y_train, 'o', label='training data', markersize=10)\n",
        "    plt.plot(X_test, y_test, 'o', label='test data', markersize=10)\n",
        "    for i,degree in enumerate([1,3,6,9]):\n",
        "        plt.plot(np.linspace(0,10,100), degree_predictions[i], alpha=0.8, lw=2, label='degree={}'.format(degree))\n",
        "    plt.ylim(-1,2.5)\n",
        "    plt.legend(loc=4)\n",
        "\n",
        "plot_one(answer_one())"
      ],
      "execution_count": null,
      "outputs": [
        {
          "output_type": "display_data",
          "data": {
            "image/png": "[encoded data removed]",
            "text/plain": [
              "<Figure size 720x360 with 1 Axes>"
            ]
          },
          "metadata": {
            "tags": [],
            "needs_background": "light"
          }
        }
      ]
    },
    {
      "cell_type": "markdown",
      "metadata": {
        "id": "rXvGtjoD28Rb"
      },
      "source": [
        "### Question 2\n",
        "\n",
        "Write a function that fits a polynomial LinearRegression model on the training data X_train for degrees 0 through 9. For each model compute the 𝑅2\n",
        "\n",
        "(coefficient of determination) regression score on the training data as well as the the test data, and return both of these arrays in a tuple.\n",
        "\n",
        "This function should return one tuple of numpy arrays (r2_train, r2_test). Both arrays should have shape (10,)"
      ]
    },
    {
      "cell_type": "code",
      "metadata": {
        "colab": {
          "base_uri": "https://localhost:8080/"
        },
        "id": "O9VtvUPz2tSb",
        "outputId": "1ab3de40-d542-4ab7-9565-4c246680eda8"
      },
      "source": [
        "def answer_two():\n",
        "    from sklearn.linear_model import LinearRegression\n",
        "    from sklearn.preprocessing import PolynomialFeatures\n",
        "    #from sklearn.metrics.regression import r2_score\n",
        "\n",
        "    # Your code here\n",
        "    X_train_new = X_train.reshape(-1,1)\n",
        "    X_test_new = X_test.reshape(-1,1)\n",
        "    r2_train = np.zeros(10)\n",
        "    r2_test = np.zeros(10)\n",
        "    for i in range(0, 10):\n",
        "        poly = PolynomialFeatures(degree=i)\n",
        "        \n",
        "        X_poly = poly.fit_transform(X_train_new)\n",
        "        linreg = LinearRegression().fit(X_poly, y_train)\n",
        "        \n",
        "        #print(\"Degree: \", i)\n",
        "        #print('R-squared score (training): {:.3f}'\n",
        "        #     .format(linreg.score(poly.fit_transform(X_train_new), y_train)))\n",
        "        #print('R-squared score (test): {:.3f}'\n",
        "        #.format(linreg.score(poly.fit_transform(X_test_new), y_test)))\n",
        "             \n",
        "        \n",
        "        r2_train[i] = linreg.score(poly.fit_transform(X_train_new), y_train)\n",
        "        r2_test[i] = linreg.score(poly.fit_transform(X_test_new), y_test)\n",
        "        \n",
        "    return r2_train,r2_test # Your answer here\n",
        "\n",
        "ret_data = answer_two()\n",
        "print(\"Shape of ret data: \", [len(item) for item in ret_data])"
      ],
      "execution_count": null,
      "outputs": [
        {
          "output_type": "stream",
          "text": [
            "Shape of ret data:  [10, 10]\n"
          ],
          "name": "stdout"
        }
      ]
    },
    {
      "cell_type": "markdown",
      "metadata": {
        "id": "VDwBHF0T3OK0"
      },
      "source": [
        "### Question 3\n",
        "\n",
        "Based on the 𝑅2\n",
        "\n",
        "scores from question 2 (degree levels 0 through 9), what degree level corresponds to a model that is underfitting? What degree level corresponds to a model that is overfitting? What choice of degree level would provide a model with good generalization performance on this dataset?\n",
        "\n",
        "Hint: Try plotting the 𝑅2\n",
        "scores from question 2 to visualize the relationship between degree level and 𝑅2\n",
        "\n",
        ". Remember to comment out the import matplotlib line before submission.\n",
        "\n",
        "This function should return one tuple with the degree values in this order: (Underfitting, Overfitting, Good_Generalization). There might be multiple correct solutions, however, you only need to return one possible solution, for example, (1,2,3). "
      ]
    },
    {
      "cell_type": "code",
      "metadata": {
        "colab": {
          "base_uri": "https://localhost:8080/",
          "height": 281
        },
        "id": "38DescbW3RL2",
        "outputId": "75cb884a-7a12-4995-bf74-ba0d9a7152da"
      },
      "source": [
        "def plot_answer_three():\n",
        "    import matplotlib.pyplot as plt\n",
        "    \n",
        "    r2_train, r2_test = answer_two()\n",
        "    \n",
        "    degrees = np.arange(0, 10)\n",
        "    plt.figure()\n",
        "    plt.plot(degrees, r2_train, c='red', alpha=.8, label=\"R2 Train Score\")\n",
        "    plt.plot(degrees, r2_test, c='blue', alpha=.8, label=\"R2 Test Score\")\n",
        "    plt.legend()\n",
        "    plt.title(\"Polynomial Scores for Degrees from 0 to 9\")\n",
        "    plt.show()\n",
        "    \n",
        "plot_answer_three()\n"
      ],
      "execution_count": null,
      "outputs": [
        {
          "output_type": "display_data",
          "data": {
            "image/png": "[encoded data removed]",
            "text/plain": [
              "<Figure size 432x288 with 1 Axes>"
            ]
          },
          "metadata": {
            "tags": [],
            "needs_background": "light"
          }
        }
      ]
    },
    {
      "cell_type": "markdown",
      "metadata": {
        "id": "AeSbCwgr3Xmv"
      },
      "source": [
        "#### Inferring from the above matplotlib\n",
        "\n",
        "Following values inferred from the plot\n",
        "UnderFitting: 0\n",
        "OverFitting: 9\n",
        "Good_Generalization: 6 or 7\n",
        "Can find above by finding the difference of R2Train and R2Test Scores\n",
        "UnderFitting: The test score and training score will be low, basically the lowest test score can be termed as underfitting.\n",
        "Overfitting: The test score and training score difference will be highest among all. \n",
        "The training score will be very high and the test score will be very low.\n",
        "Good Generalization: The training score and test score difference will be the lowest. The train and test scores will be high and the difference among them will also be the lowest."
      ]
    },
    {
      "cell_type": "code",
      "metadata": {
        "colab": {
          "base_uri": "https://localhost:8080/"
        },
        "id": "bypWvJz73sdC",
        "outputId": "17b11c35-85fc-4b85-c18b-804ba7c9486d"
      },
      "source": [
        "def answer_three():\n",
        "\n",
        "    # Your code here\n",
        "    r2_train, r2_test = answer_two()\n",
        "    diff_scores = r2_train - r2_test\n",
        "    #print(diff_scores)\n",
        "    #print(\"Underfitting -> Value: {} Degree: {}\".format(min(r2_train), np.argmin(r2_train)))\n",
        "    #print(\"OverFitting -> Value: {} Degree: {}\".format(max(diff_scores), np.argmax(diff_scores)))\n",
        "    #print(\"Good Generalization -> Value: {} Degree: {}\".format(min(diff_scores), np.argmin(diff_scores)))\n",
        "    \n",
        "    # This function is not optimized to work for all conditions\n",
        "    \n",
        "    return(np.argmin(r2_train), np.argmax(diff_scores), np.argmin(diff_scores))# Return your answer\n",
        "\n",
        "(Underfitting, Overfitting, Good_Generalization) = answer_three()\n",
        "print(\"Underfitting : \", Underfitting)\n",
        "print(\"OverFitting : \", Overfitting)\n",
        "print(\"Good_Generalization : \", Good_Generalization)"
      ],
      "execution_count": null,
      "outputs": [
        {
          "output_type": "stream",
          "text": [
            "Underfitting :  0\n",
            "OverFitting :  9\n",
            "Good_Generalization :  6\n"
          ],
          "name": "stdout"
        }
      ]
    },
    {
      "cell_type": "markdown",
      "metadata": {
        "id": "w8A4aWLU5aA7"
      },
      "source": [
        "#### Question 4\n",
        "\n",
        "Training models on high degree polynomial features can result in overly complex models that overfit, so we often use regularized versions of the model to constrain model complexity, as we saw with Ridge and Lasso linear regression.\n",
        "\n",
        "For this question, train two models: a non-regularized LinearRegression model (default parameters) and a regularized Lasso Regression model (with parameters alpha=0.01, max_iter=10000) both on polynomial features of degree 12. Return the 𝑅2\n",
        "\n",
        "score for both the LinearRegression and Lasso model's test sets.\n",
        "\n",
        "This function should return one tuple (LinearRegression_R2_test_score, Lasso_R2_test_score)"
      ]
    },
    {
      "cell_type": "code",
      "metadata": {
        "colab": {
          "base_uri": "https://localhost:8080/"
        },
        "id": "_bZtD0Ce5dXL",
        "outputId": "fb00049e-c042-499c-8ba3-e238e846709f"
      },
      "source": [
        "def answer_four():\n",
        "    import matplotlib.pyplot as plt\n",
        "    from sklearn.preprocessing import PolynomialFeatures\n",
        "    from sklearn.linear_model import Lasso, LinearRegression\n",
        "    #from sklearn.metrics.regression import r2_score\n",
        "\n",
        "    # Your code here\n",
        "    poly_d12 = PolynomialFeatures(degree=12)\n",
        "        \n",
        "    X_polyd12_train = poly_d12.fit_transform(X_train.reshape(-1, 1))\n",
        "    X_polyd12_test = poly_d12.fit_transform(X_test.reshape(-1, 1))\n",
        "        \n",
        "    lr_model = LinearRegression().fit(X_polyd12_train, y_train)\n",
        "    lr_score = lr_model.score(X_polyd12_test, y_test)\n",
        "    \n",
        "    #print('(poly deg 2) linear model coeff (w):\\n{}'\n",
        "     #.format(lr_model.coef_))\n",
        "    \n",
        "    lasso_model = Lasso(alpha=0.01, max_iter=10000).fit(X_polyd12_train, y_train)\n",
        "    lasso_score = lasso_model.score(X_polyd12_test, y_test)\n",
        "    \n",
        "    return lr_score, lasso_score # Your answer here\n",
        "\n",
        "(LinearRegression_R2_test_score, Lasso_R2_test_score) = answer_four()\n",
        "print(\"LinearRegression_R2_test_score : \", LinearRegression_R2_test_score)\n",
        "print(\"Lasso_R2_test_score : \", Lasso_R2_test_score)"
      ],
      "execution_count": null,
      "outputs": [
        {
          "output_type": "stream",
          "text": [
            "LinearRegression_R2_test_score :  -4.312001794976416\n",
            "Lasso_R2_test_score :  0.8406625614750235\n"
          ],
          "name": "stdout"
        },
        {
          "output_type": "stream",
          "text": [
            "/usr/local/lib/python3.7/dist-packages/sklearn/linear_model/_coordinate_descent.py:476: ConvergenceWarning: Objective did not converge. You might want to increase the number of iterations. Duality gap: 0.3556421695890253, tolerance: 0.0006894982540382801\n",
            "  positive)\n"
          ],
          "name": "stderr"
        }
      ]
    },
    {
      "cell_type": "code",
      "metadata": {
        "colab": {
          "base_uri": "https://localhost:8080/",
          "height": 374
        },
        "id": "xq4WJzSr5upS",
        "outputId": "34f0dc00-f3e1-4d47-ec87-694dd5b8ca83"
      },
      "source": [
        "def plot_answer_four():\n",
        "    import matplotlib.pyplot as plt\n",
        "    from sklearn.preprocessing import PolynomialFeatures\n",
        "    from sklearn.linear_model import Lasso, LinearRegression\n",
        "    #from sklearn.metrics.regression import r2_score\n",
        "\n",
        "    # Your code here\n",
        "    poly_d12 = PolynomialFeatures(degree=12)\n",
        "        \n",
        "    X_polyd12_train = poly_d12.fit_transform(X_train.reshape(-1, 1))\n",
        "    X_polyd12_test = poly_d12.fit_transform(X_test.reshape(-1, 1))\n",
        "        \n",
        "    lr_model = LinearRegression().fit(X_polyd12_train, y_train)\n",
        "    lr_score = lr_model.score(X_polyd12_test, y_test)\n",
        "    \n",
        "    y_lr_pred = lr_model.predict(X_polyd12_test)\n",
        "\n",
        "    lasso_model = Lasso(alpha=0.01, max_iter=10000).fit(X_polyd12_train, y_train)\n",
        "    lasso_score = lasso_model.score(X_polyd12_test, y_test)\n",
        "    \n",
        "    y_lasso_pred = lasso_model.predict(X_polyd12_test)\n",
        "    \n",
        "    plt.figure()\n",
        "    plt.scatter(X_test, y_test,  color='black', label=\"Test Values\")\n",
        "    plt.plot(X_test, y_lr_pred, color='red', linewidth=1, label=\"LR Predict\")\n",
        "    plt.plot(X_test, y_lasso_pred, color='blue', linewidth=1, label=\"Lasso Predict\")\n",
        "    plt.legend()\n",
        "    plt.title(\"Linear Regression and Lasso with Polynomial Degree of 12\")\n",
        "    plt.show()\n",
        "    \n",
        "    return lr_score, lasso_score # Your answer here\n",
        "\n",
        "(LinearRegression_R2_test_score, Lasso_R2_test_score) = plot_answer_four()\n",
        "print(\"LinearRegression_R2_test_score : \", LinearRegression_R2_test_score)\n",
        "print(\"Lasso_R2_test_score : \", Lasso_R2_test_score)"
      ],
      "execution_count": null,
      "outputs": [
        {
          "output_type": "stream",
          "text": [
            "/usr/local/lib/python3.7/dist-packages/sklearn/linear_model/_coordinate_descent.py:476: ConvergenceWarning: Objective did not converge. You might want to increase the number of iterations. Duality gap: 0.3556421695890253, tolerance: 0.0006894982540382801\n",
            "  positive)\n"
          ],
          "name": "stderr"
        },
        {
          "output_type": "display_data",
          "data": {
            "image/png": "[encoded data removed]",
            "text/plain": [
              "<Figure size 432x288 with 1 Axes>"
            ]
          },
          "metadata": {
            "tags": [],
            "needs_background": "light"
          }
        },
        {
          "output_type": "stream",
          "text": [
            "LinearRegression_R2_test_score :  -4.312001794976416\n",
            "Lasso_R2_test_score :  0.8406625614750235\n"
          ],
          "name": "stdout"
        }
      ]
    },
    {
      "cell_type": "markdown",
      "metadata": {
        "id": "VE1wN9aB5ohd"
      },
      "source": [
        "### Part 2 - Classification\n",
        "\n",
        "Here's an application of machine learning that could save your life! For this section of the assignment we will be working with the UCI Mushroom Data Set stored in mushrooms.csv. The data will be used to train a model to predict whether or not a mushroom is poisonous. The following attributes are provided:\n",
        "\n",
        "Attribute Information:\n",
        "\n",
        "    cap-shape: bell=b, conical=c, convex=x, flat=f, knobbed=k, sunken=s\n",
        "    cap-surface: fibrous=f, grooves=g, scaly=y, smooth=s\n",
        "    cap-color: brown=n, buff=b, cinnamon=c, gray=g, green=r, pink=p, purple=u, red=e, white=w, yellow=y\n",
        "    bruises?: bruises=t, no=f\n",
        "    odor: almond=a, anise=l, creosote=c, fishy=y, foul=f, musty=m, none=n, pungent=p, spicy=s\n",
        "    gill-attachment: attached=a, descending=d, free=f, notched=n\n",
        "    gill-spacing: close=c, crowded=w, distant=d\n",
        "    gill-size: broad=b, narrow=n\n",
        "    gill-color: black=k, brown=n, buff=b, chocolate=h, gray=g, green=r, orange=o, pink=p, purple=u, red=e, white=w, yellow=y\n",
        "    stalk-shape: enlarging=e, tapering=t\n",
        "    stalk-root: bulbous=b, club=c, cup=u, equal=e, rhizomorphs=z, rooted=r, missing=?\n",
        "    stalk-surface-above-ring: fibrous=f, scaly=y, silky=k, smooth=s\n",
        "    stalk-surface-below-ring: fibrous=f, scaly=y, silky=k, smooth=s\n",
        "    stalk-color-above-ring: brown=n, buff=b, cinnamon=c, gray=g, orange=o, pink=p, red=e, white=w, yellow=y\n",
        "    stalk-color-below-ring: brown=n, buff=b, cinnamon=c, gray=g, orange=o, pink=p, red=e, white=w, yellow=y\n",
        "    veil-type: partial=p, universal=u\n",
        "    veil-color: brown=n, orange=o, white=w, yellow=y\n",
        "    ring-number: none=n, one=o, two=t\n",
        "    ring-type: cobwebby=c, evanescent=e, flaring=f, large=l, none=n, pendant=p, sheathing=s, zone=z\n",
        "    spore-print-color: black=k, brown=n, buff=b, chocolate=h, green=r, orange=o, purple=u, white=w, yellow=y\n",
        "    population: abundant=a, clustered=c, numerous=n, scattered=s, several=v, solitary=y\n",
        "    habitat: grasses=g, leaves=l, meadows=m, paths=p, urban=u, waste=w, woods=d\n",
        "\n",
        "\n",
        "The data in the mushrooms dataset is currently encoded with strings. These values will need to be encoded to numeric to work with sklearn. We'll use pd.get_dummies to convert the categorical variables into indicator variables.\n"
      ]
    },
    {
      "cell_type": "code",
      "metadata": {
        "id": "i0ui_bgl8oVZ"
      },
      "source": [
        "import pandas as pd\n",
        "import numpy as np\n",
        "from sklearn.model_selection import train_test_split\n",
        "\n",
        "url_csv_file = \"https://github.com/ashutosh-mtx/MachineLearning/raw/main/mushrooms.csv\"\n",
        "mush_df = pd.read_csv(url_csv_file)\n",
        "mush_df2 = pd.get_dummies(mush_df)\n",
        "\n",
        "X_mush = mush_df2.iloc[:,2:]\n",
        "y_mush = mush_df2.iloc[:,1]\n",
        "\n",
        "# use the variables X_train2, y_train2 for Question 5\n",
        "X_train2, X_test2, y_train2, y_test2 = train_test_split(X_mush, y_mush, random_state=0)\n",
        "\n",
        "# For performance reasons in Questions 6 and 7, we will create a smaller version of the\n",
        "# entire mushroom dataset for use in those questions.  For simplicity we'll just re-use\n",
        "# the 25% test split created above as the representative subset.\n",
        "#\n",
        "# Use the variables X_subset, y_subset for Questions 6 and 7.\n",
        "X_subset = X_test2\n",
        "y_subset = y_test2"
      ],
      "execution_count": null,
      "outputs": []
    },
    {
      "cell_type": "markdown",
      "metadata": {
        "id": "mFEB1VBLEDnc"
      },
      "source": [
        "### Question 5\n",
        "\n",
        "Using X_train2 and y_train2 from the preceeding cell, train a DecisionTreeClassifier with default parameters and random_state=0. What are the 5 most important features found by the decision tree?\n",
        "\n",
        "As a reminder, the feature names are available in the X_train2.columns property, and the order of the features in X_train2.columns matches the order of the feature importance values in the classifier's feature_importances_ property.\n",
        "\n",
        "This function should return a list of length 5 containing the feature names in descending order of importance.\n",
        "\n",
        "Note: remember that you also need to set random_state in the DecisionTreeClassifier.\n"
      ]
    },
    {
      "cell_type": "code",
      "metadata": {
        "colab": {
          "base_uri": "https://localhost:8080/"
        },
        "id": "eFjOo-wuEJXU",
        "outputId": "fa44fa34-a9fc-48ea-ed6e-61ed9c98c6ae"
      },
      "source": [
        "def answer_five():\n",
        "    from sklearn.tree import DecisionTreeClassifier\n",
        "\n",
        "    # Your code here\n",
        "    clf = DecisionTreeClassifier(random_state=1).fit(X_train2, y_train2)\n",
        "    \n",
        "    #print(X_train2.columns)\n",
        "    tuple_features = zip(clf.feature_importances_, X_train2.columns)\n",
        "    #print(tuple_features)\n",
        "    #for x in tuple_features:\n",
        "    #    print(x) \n",
        "    sort_features = sorted(tuple_features, key=lambda item: item[0], reverse=True)\n",
        "    #print(type(sort_features))\n",
        "    #for x in sort_features:\n",
        "    #    print(x) \n",
        "    first_five = [item[1] for item in sort_features[0:5]]\n",
        "    \n",
        "    return first_five# Your answer here\n",
        "    \n",
        "answer_five()"
      ],
      "execution_count": null,
      "outputs": [
        {
          "output_type": "execute_result",
          "data": {
            "text/plain": [
              "['odor_n',\n",
              " 'stalk-root_c',\n",
              " 'stalk-root_r',\n",
              " 'spore-print-color_r',\n",
              " 'spore-print-color_u']"
            ]
          },
          "metadata": {
            "tags": []
          },
          "execution_count": 19
        }
      ]
    },
    {
      "cell_type": "code",
      "metadata": {
        "colab": {
          "base_uri": "https://localhost:8080/"
        },
        "id": "rcNF243WENqM",
        "outputId": "ebf5bf83-fc37-4d21-ad4d-c4d97683ce99"
      },
      "source": [
        "def answer_five_df_sorted():\n",
        "    from sklearn.tree import DecisionTreeClassifier\n",
        "\n",
        "    # Your code here\n",
        "    clf = DecisionTreeClassifier(random_state=1).fit(X_train2, y_train2)\n",
        "    \n",
        "    df = pd.DataFrame({\"importance\" : clf.feature_importances_, \"names\":X_train2.columns})\n",
        "    df.sort_values(by=\"importance\", ascending=False, inplace=True)\n",
        "    #print(df.head())\n",
        "    #print(list(df.names[0:5]))\n",
        "    return list(df.names[0:5])# Your answer here\n",
        "\n",
        "answer_five_df_sorted()"
      ],
      "execution_count": null,
      "outputs": [
        {
          "output_type": "execute_result",
          "data": {
            "text/plain": [
              "['odor_n',\n",
              " 'stalk-root_c',\n",
              " 'stalk-root_r',\n",
              " 'spore-print-color_r',\n",
              " 'spore-print-color_u']"
            ]
          },
          "metadata": {
            "tags": []
          },
          "execution_count": 21
        }
      ]
    },
    {
      "cell_type": "markdown",
      "metadata": {
        "id": "lHfji3iaEPBo"
      },
      "source": [
        "### Question 6\n",
        "\n",
        "For this question, we're going to use the validation_curve function in sklearn.model_selection to determine training and test scores for a Support Vector Classifier (SVC) with varying parameter values. Recall that the validation_curve function, in addition to taking an initialized unfitted classifier object, takes a dataset as input and does its own internal train-test splits to compute results.\n",
        "\n",
        "Because creating a validation curve requires fitting multiple models, for performance reasons this question will use just a subset of the original mushroom dataset: please use the variables X_subset and y_subset as input to the validation curve function (instead of X_mush and y_mush) to reduce computation time.\n",
        "\n",
        "The initialized unfitted classifier object we'll be using is a Support Vector Classifier with radial basis kernel. So your first step is to create an SVC object with default parameters (i.e. kernel='rbf', C=1) and random_state=0. Recall that the kernel width of the RBF kernel is controlled using the gamma parameter.\n",
        "\n",
        "With this classifier, and the dataset in X_subset, y_subset, explore the effect of gamma on classifier accuracy by using the validation_curve function to find the training and test scores for 6 values of gamma from 0.0001 to 10 (i.e. np.logspace(-4,1,6)). Recall that you can specify what scoring metric you want validation_curve to use by setting the \"scoring\" parameter. In this case, we want to use \"accuracy\" as the scoring metric.\n",
        "\n",
        "For each level of gamma, validation_curve will fit 3 models on different subsets of the data, returning two 6x3 (6 levels of gamma x 3 fits per level) arrays of the scores for the training and test sets.\n",
        "\n",
        "Find the mean score across the three models for each level of gamma for both arrays, creating two arrays of length 6, and return a tuple with the two arrays.\n",
        "\n",
        "e.g.\n",
        "\n",
        "if one of your array of scores is\n",
        "\n",
        "array([[ 0.5,  0.4,  0.6],\n",
        "       [ 0.7,  0.8,  0.7],\n",
        "       [ 0.9,  0.8,  0.8],\n",
        "       [ 0.8,  0.7,  0.8],\n",
        "       [ 0.7,  0.6,  0.6],\n",
        "       [ 0.4,  0.6,  0.5]])\n",
        "\n",
        "it should then become\n",
        "\n",
        "array([ 0.5,  0.73333333,  0.83333333,  0.76666667,  0.63333333, 0.5])\n",
        "\n",
        "This function should return one tuple of numpy arrays (training_scores, test_scores) where each array in the tuple has shape (6,).\n"
      ]
    },
    {
      "cell_type": "code",
      "metadata": {
        "colab": {
          "base_uri": "https://localhost:8080/"
        },
        "id": "vWut48ShEbOh",
        "outputId": "e970718b-1e6b-4fde-b3b0-602f3144880c"
      },
      "source": [
        "def answer_six():\n",
        "    from sklearn.svm import SVC\n",
        "    from sklearn.model_selection import validation_curve\n",
        "\n",
        "    # Your code here\n",
        "    clf = SVC(kernel = 'rbf', C=1, random_state=0).fit(X_subset, y_subset)\n",
        "    param_range = np.logspace(-4,1,6)\n",
        "    train_scores, test_scores = validation_curve(clf, X_subset, y_subset,\n",
        "                                            param_name='gamma',\n",
        "                                            param_range=param_range, \n",
        "                                            scoring=\"accuracy\",\n",
        "                                            cv=3)\n",
        "    train_scores_mean = np.mean(train_scores, axis=1)\n",
        "    test_scores_mean = np.mean(test_scores, axis=1)\n",
        "\n",
        "    return train_scores_mean, test_scores_mean# Your answer here\n",
        "\n",
        "train_scores_mean, test_scores_mean = answer_six()\n",
        "print(\"Train Scores Mean :\", train_scores_mean)\n",
        "print(\"Test Scores Mean:\", test_scores_mean)"
      ],
      "execution_count": null,
      "outputs": [
        {
          "output_type": "stream",
          "text": [
            "Train Scores Mean : [0.56646972 0.93106844 0.990645   1.         1.         1.        ]\n",
            "Test Scores Mean: [0.56720827 0.9300837  0.98966027 1.         0.99458395 0.52240276]\n"
          ],
          "name": "stdout"
        }
      ]
    },
    {
      "cell_type": "markdown",
      "metadata": {
        "id": "bR27NktdEs8-"
      },
      "source": [
        "### Question 7\n",
        "\n",
        "Based on the scores from question 6, what gamma value corresponds to a model that is underfitting (and has the worst test set accuracy)? What gamma value corresponds to a model that is overfitting (and has the worst test set accuracy)? What choice of gamma would be the best choice for a model with good generalization performance on this dataset (high accuracy on both training and test set)?\n",
        "\n",
        "Hint: Try plotting the scores from question 6 to visualize the relationship between gamma and accuracy. Remember to comment out the import matplotlib line before submission.\n",
        "\n",
        "This function should return one tuple with the degree values in this order: (Underfitting, Overfitting, Good_Generalization) Please note there is only one correct solution.\n"
      ]
    },
    {
      "cell_type": "code",
      "metadata": {
        "colab": {
          "base_uri": "https://localhost:8080/",
          "height": 281
        },
        "id": "qS8lpeL7ExQA",
        "outputId": "d0c41495-19f1-4151-c791-4bb2426e28df"
      },
      "source": [
        "def answer_seven_plot():\n",
        "    \n",
        "    # Your code here\n",
        "    import matplotlib.pyplot as plt\n",
        "    \n",
        "    #train_score, test_score = answer_six()\n",
        "    train_score = train_scores_mean\n",
        "    test_score = test_scores_mean\n",
        "    param_range = np.logspace(-4,1,6)\n",
        "    \n",
        "    plt.figure()\n",
        "    plt.plot(param_range, train_score, c='red', marker='o', alpha=.8, label=\"Train Score\")\n",
        "    plt.plot(param_range, test_score, c='blue', marker='x', alpha=.8, label=\"Test Score\")\n",
        "    plt.legend()\n",
        "    plt.title(\"Decision Tree Scores From 0 to 10\")\n",
        "    \n",
        "    plt.show()   \n",
        "    return # Return your answer\n",
        "\n",
        "answer_seven_plot()"
      ],
      "execution_count": null,
      "outputs": [
        {
          "output_type": "display_data",
          "data": {
            "image/png": "[encoded data removed]",
            "text/plain": [
              "<Figure size 432x288 with 1 Axes>"
            ]
          },
          "metadata": {
            "tags": [],
            "needs_background": "light"
          }
        }
      ]
    },
    {
      "cell_type": "code",
      "metadata": {
        "colab": {
          "base_uri": "https://localhost:8080/"
        },
        "id": "VbJ_PhV1E25d",
        "outputId": "3695d211-c32c-4054-b3ba-32d71f151916"
      },
      "source": [
        "def answer_seven():\n",
        "    \n",
        "    # Your code here\n",
        "    #train_score, test_score = answer_six()\n",
        "    #acccording to the plot 0 is underfitted and 10 is overfitted\n",
        "    \n",
        "    #train_score = train_scores_mean\n",
        "    #test_score = test_scores_mean\n",
        "    \n",
        "    \n",
        "    param_range = np.logspace(-4,1,6)\n",
        "    print(param_range)\n",
        "    for i, n in enumerate(param_range):\n",
        "        print(\"Value in {} is {} \".format(i, n))\n",
        "        \n",
        "    least_index = np.argmin(train_scores_mean)\n",
        "    train_score = np.delete(train_scores_mean, least_index)\n",
        "    test_score = np.delete(test_scores_mean, least_index)\n",
        "    \n",
        "    under_fiting_val = param_range[least_index]\n",
        "    param_range = np.delete(param_range, least_index)\n",
        "    diff_scores = train_score - test_score\n",
        "    \n",
        "    print(\"Score differences: \", diff_scores)\n",
        "\n",
        "    return(under_fiting_val, \n",
        "           param_range[np.argmax(diff_scores)], \n",
        "           param_range[np.argmin(diff_scores)])# Return your answer\n",
        "\n",
        "#Train Scores Mean : [0.56646972 0.93106844 0.990645   1.         1.         1.        ]\n",
        "#Test Scores Mean: [0.56720827 0.9300837  0.98966027 1.         0.99458395 0.52240276]\n",
        "\n",
        "    \n",
        "(Underfitting, Overfitting, Good_Generalization) = answer_seven()\n",
        "print(\"Underfitting : \", Underfitting)\n",
        "print(\"OverFitting : \", Overfitting)\n",
        "print(\"Good_Generalization : \", Good_Generalization)"
      ],
      "execution_count": null,
      "outputs": [
        {
          "output_type": "stream",
          "text": [
            "[1.e-04 1.e-03 1.e-02 1.e-01 1.e+00 1.e+01]\n",
            "Value in 0 is 0.0001 \n",
            "Value in 1 is 0.001 \n",
            "Value in 2 is 0.01 \n",
            "Value in 3 is 0.1 \n",
            "Value in 4 is 1.0 \n",
            "Value in 5 is 10.0 \n",
            "Score differences:  [0.00098474 0.00098474 0.         0.00541605 0.47759724]\n",
            "Underfitting :  0.0001\n",
            "OverFitting :  10.0\n",
            "Good_Generalization :  0.1\n"
          ],
          "name": "stdout"
        }
      ]
    }
  ]
}